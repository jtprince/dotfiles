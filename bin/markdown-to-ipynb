#!/bin/bash


if [ "$#" -eq 0 ]
then
    echo "markdown-to-ipynb <file>.md ..."
    exit 1
fi

jupytext "$@" --to ipynb
